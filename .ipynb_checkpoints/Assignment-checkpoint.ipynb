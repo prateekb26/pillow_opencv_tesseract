{
 "cells": [
  {
   "cell_type": "code",
   "execution_count": 12,
   "id": "c708ac03",
   "metadata": {},
   "outputs": [],
   "source": [
    "import cv2 as cv\n",
    "from PIL import Image,ImageDraw\n",
    "import pytesseract\n",
    "from zipfile import ZipFile\n",
    "import numpy\n",
    "\n",
    "search_text=\"Christopher\"\n",
    "face_cascade = cv.CascadeClassifier('haarcascade_frontalface_default.xml')\n",
    "with ZipFile('small_img.zip') as myzip:\n",
    "    for file in myzip.infolist():\n",
    "        data=myzip.read(file)\n",
    "        with myzip.open(file) as myfile:\n",
    "            pil_img= Image.open(myfile)\n",
    "            #text=pytesseract.image_to_string(img)\n",
    "            pil_img=pil_img.convert('RGB')\n",
    "            opencvImage = cv.cvtColor(numpy.array(pil_img), cv.COLOR_RGB2BGR)\n",
    "            faces = face_cascade.detectMultiScale(opencvImage)\n",
    "            drawing=ImageDraw.Draw(pil_img)\n",
    "            for x,y,w,h in faces:\n",
    "                drawing.rectangle((x,y,x+w,y+h), outline=\"white\")\n",
    "            display(pil_img)\n",
    "            #cv_img=cv.imread(data)\n",
    "            #if search_text in text:\n",
    "            #    display(img)\n",
    "                "
   ]
  },
  {
   "cell_type": "code",
   "execution_count": 5,
   "id": "d3ef24af",
   "metadata": {},
   "outputs": [
    {
     "data": {
      "text/plain": [
       "[<ZipInfo filename='a-0.png' compress_type=deflate external_attr=0x20 file_size=21000053 compress_size=20835185>,\n",
       " <ZipInfo filename='a-1.png' compress_type=deflate external_attr=0x20 file_size=22598429 compress_size=20879041>,\n",
       " <ZipInfo filename='a-2.png' compress_type=deflate external_attr=0x20 file_size=3650049 compress_size=3320620>,\n",
       " <ZipInfo filename='a-3.png' compress_type=deflate external_attr=0x20 file_size=18646538 compress_size=16564827>]"
      ]
     },
     "execution_count": 5,
     "metadata": {},
     "output_type": "execute_result"
    }
   ],
   "source": [
    "myzip.infolist()"
   ]
  },
  {
   "cell_type": "code",
   "execution_count": 8,
   "id": "afb224df",
   "metadata": {},
   "outputs": [
    {
     "data": {
      "text/plain": [
       "<zipfile.ZipExtFile [closed]>"
      ]
     },
     "execution_count": 8,
     "metadata": {},
     "output_type": "execute_result"
    }
   ],
   "source": [
    "myfile"
   ]
  },
  {
   "cell_type": "code",
   "execution_count": null,
   "id": "776cc6a3",
   "metadata": {},
   "outputs": [],
   "source": []
  }
 ],
 "metadata": {
  "kernelspec": {
   "display_name": "Python 3",
   "language": "python",
   "name": "python3"
  },
  "language_info": {
   "codemirror_mode": {
    "name": "ipython",
    "version": 3
   },
   "file_extension": ".py",
   "mimetype": "text/x-python",
   "name": "python",
   "nbconvert_exporter": "python",
   "pygments_lexer": "ipython3",
   "version": "3.7.0"
  }
 },
 "nbformat": 4,
 "nbformat_minor": 5
}
